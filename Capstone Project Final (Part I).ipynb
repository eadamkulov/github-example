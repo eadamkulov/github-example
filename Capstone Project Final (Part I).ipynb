{
 "cells": [
  {
   "cell_type": "markdown",
   "metadata": {
    "collapsed": true
   },
   "source": [
    "## Introduction\n",
    "### Background\n",
    "According to the Migration Policy Institute, more than 44,7 million immigrants lived in the United States in 2018. Then, according to Census.gov, 1.21 million people migrated to the US in 2018. Immigration has been a major source of population growth and cultural change throughout much of U.S. history. And one of the questions new arrivals are going to ask is where to settle down to start a new chapter in their life. We will try to answer this question on the example of Los Angeles."
   ]
  },
  {
   "cell_type": "markdown",
   "metadata": {},
   "source": [
    "### Problem\n",
    "In this case, we are adopting machine learning tools to assist immigrants to find apartments with optimum conditions. The question we are currently solving is: how could we provide support to immigrants in finding suitable apartments in Los Angeles(further - LA)?\n",
    "To solve this problem, we are going to cluster LA neighborhoods in order to recommend venues with the median renting price amount where immigrants can find suitable apartments. We will recommend neighborhoods according to essential facilities and services surrounding such venues i.e. schools, stores, restaurants, hospitals, and entertainments.\n"
   ]
  },
  {
   "cell_type": "markdown",
   "metadata": {},
   "source": [
    "## Data\n",
    "Data about Los Angeles(further - LA) neighborhoods and rent price paid in these neighborhoods was taken from USC Price Center for Social Innovation    (https://usc.data.socrata.com/Los-Angeles/Rent-Price-LA-/4a97-v5tx). The dataset comprises LA Neighborhoods; Median Rent Price Amount in LA Neighborhoods.\n",
    "\n",
    "To discover and choose affordable and convenient locations across different neighborhoods according to the presence of essential facilities and services, we will access data through FourSquare API interface. By merging data frames on LA neighborhoods and the median rent price amount from USC price center and data on essential facilities and services surrounding these neighborhoods from FourSquare API interface, we will be able to recommend neighborhoods with affordable renting apartments.\n"
   ]
  },
  {
   "cell_type": "markdown",
   "metadata": {},
   "source": [
    "\n",
    "## Methodology\n",
    "#### The Methodology section is consist of  four following stages:\n",
    "\n",
    " 1. Collect Inspection Data\n",
    " 2. Explore and Understand Data\n",
    " 3. Data preparation and preprocessing \n",
    " 4. Modeling"
   ]
  },
  {
   "cell_type": "code",
   "execution_count": null,
   "metadata": {},
   "outputs": [],
   "source": []
  }
 ],
 "metadata": {
  "kernelspec": {
   "display_name": "Python 3.6",
   "language": "python",
   "name": "python3"
  },
  "language_info": {
   "codemirror_mode": {
    "name": "ipython",
    "version": 3
   },
   "file_extension": ".py",
   "mimetype": "text/x-python",
   "name": "python",
   "nbconvert_exporter": "python",
   "pygments_lexer": "ipython3",
   "version": "3.6.9"
  }
 },
 "nbformat": 4,
 "nbformat_minor": 1
}
